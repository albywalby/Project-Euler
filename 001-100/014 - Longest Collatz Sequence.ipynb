{
 "cells": [
  {
   "cell_type": "markdown",
   "id": "0f7d4dc9-0fb0-4312-b383-179d8d8816ce",
   "metadata": {},
   "source": [
    "# 014 - Longest Collatz Sequence (Incomplete)\n",
    "___\n",
    "The following iterative sequence is defined for the set of positive integers:\n",
    "\n",
    "$n \\to n/2$ if $n$ is even\n",
    "\n",
    "$n \\to 3n+1$ if $n$ is odd\n",
    "\n",
    "Using the rule above and starting with $13$, we generaet the following sequence:\n",
    "$$\n",
    "13\\to40\\to20\\to10\\to5\\to16\\to8\\to4\\to2\\to1.\n",
    "$$\n",
    "\n",
    "It can be seen that this sequence (starting at $13$ and finishing at $1$) contains $10$ terms. Although it has not been proved yet (Collatz Problem), it is thought that all starting numbers finish at $1$.\n",
    "\n",
    "Which starting number, under one million, produces the longest chain?\n",
    "\n",
    "**NOTE**: Once the chain starts the terms are allowed to go above one million"
   ]
  },
  {
   "cell_type": "markdown",
   "id": "7e087d89-695a-49e3-9d4c-fdc4bd04b109",
   "metadata": {},
   "source": [
    "## Solution"
   ]
  },
  {
   "cell_type": "code",
   "execution_count": 1,
   "id": "b6263a7b-3d13-4151-b81a-0e34e2d32f72",
   "metadata": {},
   "outputs": [
    {
     "data": {
      "text/plain": [
       "1"
      ]
     },
     "execution_count": 1,
     "metadata": {},
     "output_type": "execute_result"
    }
   ],
   "source": [
    "ONE_MILLION = 1000000\n",
    "\n",
    "n = 13\n",
    "\n",
    "function collatz(num)\n",
    "    count = 0\n",
    "    if num % 2 == 0\n",
    "        num = num / 2\n",
    "        count += 1\n",
    "    else\n",
    "        if num != 1\n",
    "            num = 3 * num + 1\n",
    "            count += 1\n",
    "        end\n",
    "    end\n",
    "    return count\n",
    "end\n",
    "\n",
    "collatz(n)"
   ]
  }
 ],
 "metadata": {
  "kernelspec": {
   "display_name": "Julia 1.9.3",
   "language": "julia",
   "name": "julia-1.9"
  },
  "language_info": {
   "file_extension": ".jl",
   "mimetype": "application/julia",
   "name": "julia",
   "version": "1.9.3"
  }
 },
 "nbformat": 4,
 "nbformat_minor": 5
}
