{
 "cells": [
  {
   "cell_type": "markdown",
   "id": "22e2dd9e",
   "metadata": {},
   "source": [
    "# 005 - Smallest Multiple\n",
    "___\n",
    "$2520$ is the smallest number that can be evenly divided by each of the numbers between $1$ and $10$.\n",
    "\n",
    "What is the smallest possible number that can be **_evenly divided_** by all of the numbers from $1$ to $20$."
   ]
  },
  {
   "cell_type": "markdown",
   "id": "1147c371",
   "metadata": {},
   "source": [
    "## Solution\n",
    "___\n",
    "Since we know that the smallest multiple of integers $1$ through $10$ is $2520$, we can start our search there since everything below that will not divide everything between $11$ through $20$. Then we declare an array with the integers $11$ through $20$, because we know everything after $2520$ will also be evenly divisible by integers $1$ through $10$. We then declare a function `isMultiple` that takes in an integer `num` and an array `array` and returns a boolean. This function will compare `num` to every index in `array` and returns false if any number does not divide "
   ]
  },
  {
   "cell_type": "code",
   "execution_count": 1,
   "id": "b18c6ea2",
   "metadata": {
    "scrolled": true
   },
   "outputs": [
    {
     "name": "stdout",
     "output_type": "stream",
     "text": [
      "232792560"
     ]
    }
   ],
   "source": [
    "n = 2520\n",
    "\n",
    "arr = [20,19,18,17,16,15,14,13,12,11]\n",
    "\n",
    "function isMultiple(num, array)::Bool\n",
    "    for i in 1:size(array, 1)\n",
    "        if num % array[i] != 0\n",
    "            return false\n",
    "        end\n",
    "    end\n",
    "    return true\n",
    "end\n",
    "\n",
    "while !isMultiple(n, arr)\n",
    "    n += 10\n",
    "end\n",
    "\n",
    "print(n)"
   ]
  }
 ],
 "metadata": {
  "kernelspec": {
   "display_name": "Julia 1.9.3",
   "language": "julia",
   "name": "julia-1.9"
  },
  "language_info": {
   "file_extension": ".jl",
   "mimetype": "application/julia",
   "name": "julia",
   "version": "1.9.3"
  }
 },
 "nbformat": 4,
 "nbformat_minor": 5
}
