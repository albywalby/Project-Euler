{
 "cells": [
  {
   "cell_type": "markdown",
   "id": "22e2dd9e",
   "metadata": {},
   "source": [
    "# 005 - Smallest Multiple\n",
    "___\n",
    "$2520$ is the smallest number that can be evenly divided by each of the numbers between $1$ and $10$\n",
    "\n",
    "What is the smallest possible number that can be **_evenly divided_** by all of the numbers from $1$ to $20$"
   ]
  },
  {
   "cell_type": "markdown",
   "id": "1147c371",
   "metadata": {},
   "source": [
    "## Solution"
   ]
  },
  {
   "cell_type": "code",
   "execution_count": null,
   "id": "b18c6ea2",
   "metadata": {},
   "outputs": [],
   "source": []
  }
 ],
 "metadata": {
  "kernelspec": {
   "display_name": "Julia 1.9.3",
   "language": "julia",
   "name": "julia-1.9"
  },
  "language_info": {
   "file_extension": ".jl",
   "mimetype": "application/julia",
   "name": "julia",
   "version": "1.9.3"
  }
 },
 "nbformat": 4,
 "nbformat_minor": 5
}
