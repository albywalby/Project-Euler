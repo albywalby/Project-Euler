{
 "cells": [
  {
   "cell_type": "markdown",
   "id": "a61749e0",
   "metadata": {},
   "source": [
    "# 001: Multiples of 3 and 5\n",
    "___\n",
    "If we list all the natural numbers below $10$ that are multiples of $3$ or $5$, we get $3, 5, 6,$ and $9$. The sum of these multiples is $23$. Find the sum of all multiples of $3$ and $5$ below $1000$."
   ]
  },
  {
   "cell_type": "code",
   "execution_count": 1,
   "id": "eca3913b",
   "metadata": {},
   "outputs": [
    {
     "name": "stdout",
     "output_type": "stream",
     "text": [
      "233168"
     ]
    }
   ],
   "source": [
    "sum::Int32 = 0\n",
    "for i in 0:999\n",
    "    if i % 3 == 0 || i % 5 ==0\n",
    "        sum += i\n",
    "    end\n",
    "end\n",
    "print(sum)"
   ]
  }
 ],
 "metadata": {
  "kernelspec": {
   "display_name": "Julia 1.9.3",
   "language": "julia",
   "name": "julia-1.9"
  },
  "language_info": {
   "file_extension": ".jl",
   "mimetype": "application/julia",
   "name": "julia",
   "version": "1.9.3"
  }
 },
 "nbformat": 4,
 "nbformat_minor": 5
}
