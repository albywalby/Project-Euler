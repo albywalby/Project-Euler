{
 "cells": [
  {
   "cell_type": "markdown",
   "id": "2c05e718-d5d2-453d-b92e-89c74079e90d",
   "metadata": {},
   "source": [
    "# Largest Prime Factor\n",
    "___\n",
    "Find the largest prime factor of the number $600851475143$"
   ]
  },
  {
   "cell_type": "code",
   "execution_count": 1,
   "id": "a19e846a-b290-4ee7-9a22-a895ba8cdcd4",
   "metadata": {
    "tags": []
   },
   "outputs": [
    {
     "name": "stdout",
     "output_type": "stream",
     "text": [
      "6857"
     ]
    }
   ],
   "source": [
    "BIG_SCARY_NUMBER::Int64 = 600851475143\n",
    "\n",
    "largestPrime = -1\n",
    "i = 2\n",
    "\n",
    "while i^2 <= BIG_SCARY_NUMBER\n",
    "    if BIG_SCARY_NUMBER % i == 0\n",
    "        largestPrime = i\n",
    "        BIG_SCARY_NUMBER = BIG_SCARY_NUMBER / i\n",
    "    else\n",
    "        i+=1\n",
    "    end\n",
    "end\n",
    "\n",
    "print(BIG_SCARY_NUMBER)\n",
    "\n"
   ]
  }
 ],
 "metadata": {
  "kernelspec": {
   "display_name": "Julia 1.9.3",
   "language": "julia",
   "name": "julia-1.9"
  },
  "language_info": {
   "file_extension": ".jl",
   "mimetype": "application/julia",
   "name": "julia",
   "version": "1.9.3"
  }
 },
 "nbformat": 4,
 "nbformat_minor": 5
}
