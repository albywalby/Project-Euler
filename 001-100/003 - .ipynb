{
 "cells": [
  {
   "cell_type": "markdown",
   "id": "2c05e718-d5d2-453d-b92e-89c74079e90d",
   "metadata": {},
   "source": [
    "# Largest Prime Factor\n",
    "___\n",
    "Find the largest prime factor of the number $600851475143$"
   ]
  },
  {
   "cell_type": "code",
   "execution_count": 1,
   "id": "a19e846a-b290-4ee7-9a22-a895ba8cdcd4",
   "metadata": {
    "tags": []
   },
   "outputs": [],
   "source": [
    "using Ranges\n",
    "\n",
    "function largePrimeFactor(n):\n",
    "    maxPrime = -1\n",
    "    while n % 2 == 0\n",
    "        "
   ]
  }
 ],
 "metadata": {
  "kernelspec": {
   "display_name": "Julia 1.9.3",
   "language": "julia",
   "name": "julia-1.9"
  },
  "language_info": {
   "file_extension": ".jl",
   "mimetype": "application/julia",
   "name": "julia",
   "version": "1.9.3"
  }
 },
 "nbformat": 4,
 "nbformat_minor": 5
}
