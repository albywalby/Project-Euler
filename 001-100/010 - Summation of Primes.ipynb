{
 "cells": [
  {
   "cell_type": "markdown",
   "id": "1f4c821e",
   "metadata": {},
   "source": [
    "# 010 - Summation of Primes\n",
    "___\n",
    "The sum of the primes below $10$ is $2+3+5+7=17$\n",
    "\n",
    "Find the sum of all prime numbers below two million."
   ]
  },
  {
   "cell_type": "markdown",
   "id": "9ec0a27f",
   "metadata": {},
   "source": [
    "## Solution\n",
    "Using the `isCoPrime` function will test to see wether any integer `i` is evenly divisible by `x`. The variable `P` in the function declaration is the array of prime numbers, which is declared as `Prime` later on in the code. We use a `for` loop starting at 2 up to the `limit` which is two million. If we find any prime numbers, we use the `push!` function to store `i` in the next available element in the `Prime` array. We then `sum` the array to get the sum of all prime numbers below two million"
   ]
  },
  {
   "cell_type": "code",
   "execution_count": 1,
   "id": "6d24a246",
   "metadata": {},
   "outputs": [
    {
     "data": {
      "text/plain": [
       "142913828922"
      ]
     },
     "execution_count": 1,
     "metadata": {},
     "output_type": "execute_result"
    }
   ],
   "source": [
    "limit = 2000000\n",
    "\n",
    "isCoPrime(P , i) = !any(x -> i % x == 0, P)\n",
    "\n",
    "Prime = Int[]\n",
    "for i in 2:limit\n",
    "    if isCoPrime(Prime, i)\n",
    "        push!(Prime, i)\n",
    "    end\n",
    "end\n",
    "pSum = sum(Prime)"
   ]
  }
 ],
 "metadata": {
  "kernelspec": {
   "display_name": "Julia 1.9.3",
   "language": "julia",
   "name": "julia-1.9"
  },
  "language_info": {
   "file_extension": ".jl",
   "mimetype": "application/julia",
   "name": "julia",
   "version": "1.9.3"
  }
 },
 "nbformat": 4,
 "nbformat_minor": 5
}
