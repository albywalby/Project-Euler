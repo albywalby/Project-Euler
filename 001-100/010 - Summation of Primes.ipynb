{
 "cells": [
  {
   "cell_type": "markdown",
   "id": "1f4c821e",
   "metadata": {},
   "source": [
    "# 010 - Summation of Primes\n",
    "___\n",
    "The sum of the primes below $10$ is $2+3+5+7=17$\n",
    "\n",
    "Find the sum of all prime numbers below two million."
   ]
  },
  {
   "cell_type": "code",
   "execution_count": null,
   "id": "6d24a246",
   "metadata": {},
   "outputs": [],
   "source": [
    "limit = 2000000\n",
    "\n"
   ]
  }
 ],
 "metadata": {
  "kernelspec": {
   "display_name": "Julia 1.9.3",
   "language": "julia",
   "name": "julia-1.9"
  },
  "language_info": {
   "file_extension": ".jl",
   "mimetype": "application/julia",
   "name": "julia",
   "version": "1.9.3"
  }
 },
 "nbformat": 4,
 "nbformat_minor": 5
}
