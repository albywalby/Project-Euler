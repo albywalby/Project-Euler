{
 "cells": [
  {
   "cell_type": "markdown",
   "id": "fde821c3",
   "metadata": {},
   "source": [
    "# 007 - 10001st Prime\n",
    "___\n",
    "By listing the first six prime numbers: $2,3,5,7,11,$ and $13$, we can see that the $6$th prime is $13$\n",
    "\n",
    "What is the $10001$st prime number?"
   ]
  },
  {
   "cell_type": "markdown",
   "id": "efff36fa",
   "metadata": {},
   "source": [
    "## Solution\n",
    "We want to find the 10001st term of the Sieve of Eratosthenes, so we define a variable `n` as 10001."
   ]
  },
  {
   "cell_type": "code",
   "execution_count": 1,
   "id": "ee62c841",
   "metadata": {
    "tags": []
   },
   "outputs": [
    {
     "data": {
      "text/plain": [
       "10001"
      ]
     },
     "execution_count": 1,
     "metadata": {},
     "output_type": "execute_result"
    }
   ],
   "source": [
    "n = 10001"
   ]
  }
 ],
 "metadata": {
  "kernelspec": {
   "display_name": "Julia 1.9.3",
   "language": "julia",
   "name": "julia-1.9"
  },
  "language_info": {
   "file_extension": ".jl",
   "mimetype": "application/julia",
   "name": "julia",
   "version": "1.9.3"
  }
 },
 "nbformat": 4,
 "nbformat_minor": 5
}
