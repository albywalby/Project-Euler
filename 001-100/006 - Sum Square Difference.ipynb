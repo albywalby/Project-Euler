{
 "cells": [
  {
   "cell_type": "markdown",
   "id": "bce67129",
   "metadata": {},
   "source": [
    "# 006 - Sum Square Difference\n",
    "___\n",
    "The sum of the squares of the first ten natural numbers is\n",
    "$$\n",
    "1^2 + 2^2 + \\dots + 10^2 = 385\n",
    "$$\n",
    "\n",
    "The square of the sum of the first ten natural numbers is \n",
    "$$\n",
    "(1+2+\\dots+10)^2 = 55^2 = 3025\n",
    "$$\n",
    "\n",
    "Hence the difference between the square of sums and sum of squares is $3025-385=2640$.\n",
    "\n",
    "Find the difference between the sum of squares and square of sums of the first 100 natural numbers"
   ]
  },
  {
   "cell_type": "code",
   "execution_count": 2,
   "id": "acf28f76",
   "metadata": {},
   "outputs": [
    {
     "name": "stdout",
     "output_type": "stream",
     "text": [
      "25164150"
     ]
    }
   ],
   "source": [
    "sumSquare::Int32 = 0\n",
    "squareSum::Int32 = 0\n",
    "difference::Int32 = 0\n",
    "\n",
    "for i in 1:100\n",
    "    squareSum += i\n",
    "    sumSquare += i^2\n",
    "end\n",
    "\n",
    "squareSum = squareSum^2\n",
    "\n",
    "difference = squareSum - sumSquare\n",
    "\n",
    "print(squareSum \"difference)"
   ]
  }
 ],
 "metadata": {
  "kernelspec": {
   "display_name": "Julia 1.9.3",
   "language": "julia",
   "name": "julia-1.9"
  },
  "language_info": {
   "file_extension": ".jl",
   "mimetype": "application/julia",
   "name": "julia",
   "version": "1.9.3"
  }
 },
 "nbformat": 4,
 "nbformat_minor": 5
}
