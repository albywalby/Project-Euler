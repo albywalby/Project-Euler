{
 "cells": [
  {
   "cell_type": "markdown",
   "id": "bce67129",
   "metadata": {},
   "source": [
    "# 006 - Sum Square Difference\n",
    "___\n",
    "The sum of the squares of the first ten natural numbers is\n",
    "$$\n",
    "1^2 + 2^2 + \\dots + 10^2 = 385\n",
    "$$\n",
    "\n",
    "The square of the sum of the first ten natural numbers is \n",
    "$$\n",
    "(1+2+\\dots+10)^2 = 55^2 = 3025\n",
    "$$\n",
    "\n",
    "Hence the difference between the square of sums and sum of squares is $3025-385=2640$.\n",
    "\n",
    "Find the difference between the sum of squares and square of sums of the first 100 natural numbers"
   ]
  },
  {
   "cell_type": "markdown",
   "id": "f5cf938b-8f2a-42da-83b9-e4b878b3ce6d",
   "metadata": {},
   "source": [
    "## Solution\n",
    "Create 2 variables `sumSquare` and `squareSum` along with a `difference`. Then create a `for` loop from 1 to 100. Increment `squareSum` by `i` but increment `sumSquare` by `i` squared. Then square `squareSum` and then find `difference` by subtracting `squareSum` and `sumSquare`."
   ]
  },
  {
   "cell_type": "code",
   "execution_count": 1,
   "id": "acf28f76",
   "metadata": {
    "scrolled": true
   },
   "outputs": [
    {
     "name": "stdout",
     "output_type": "stream",
     "text": [
      "25502500-338350=25164150"
     ]
    }
   ],
   "source": [
    "sumSquare::Int32 = 0\n",
    "squareSum::Int32 = 0\n",
    "difference::Int32 = 0\n",
    "\n",
    "for i in 1:100\n",
    "    squareSum += i\n",
    "    sumSquare += i^2\n",
    "end\n",
    "\n",
    "squareSum = squareSum^2\n",
    "\n",
    "difference = squareSum - sumSquare\n",
    "\n",
    "print(squareSum, \"-\", sumSquare, \"=\", difference)"
   ]
  }
 ],
 "metadata": {
  "kernelspec": {
   "display_name": "Julia 1.9.3",
   "language": "julia",
   "name": "julia-1.9"
  },
  "language_info": {
   "file_extension": ".jl",
   "mimetype": "application/julia",
   "name": "julia",
   "version": "1.9.3"
  }
 },
 "nbformat": 4,
 "nbformat_minor": 5
}
