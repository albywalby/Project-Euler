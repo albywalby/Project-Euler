{
 "cells": [
  {
   "cell_type": "markdown",
   "id": "fde821c3",
   "metadata": {},
   "source": [
    "# 007 - 10001st Prime (Incomplete)\n",
    "___\n",
    "By listing the first six prime numbers: $2,3,5,7,11,$ and $13$, we can see that the $6$th prime is $13$\n",
    "\n",
    "What is the $10001$st prime number?"
   ]
  },
  {
   "cell_type": "markdown",
   "id": "efff36fa",
   "metadata": {},
   "source": [
    "## Solution\n",
    "We want to find the 10001st term of the Sieve of Eratosthenes, so we define a variable `n` as 10001. The function `isCoPrime` will take an integer `i` and try to see if it is evenly divisible by any number `x`. It also takes in an array `P` and returns that array as well."
   ]
  },
  {
   "cell_type": "code",
   "execution_count": null,
   "id": "ee62c841",
   "metadata": {
    "tags": []
   },
   "outputs": [],
   "source": [
    "n = 10001\n",
    "\n",
    "isCoPrime(P, i) = !any(x -> i % x == 0, P)\n",
    "\n",
    "index = 2\n",
    "\n",
    "primes = Int[]\n",
    "\n",
    "while index <= n\n",
    "    if isCoPrime(primes, index)\n",
    "        push!(primes, index)\n",
    "    end\n",
    "end\n",
    "\n",
    "print(primes[n])"
   ]
  }
 ],
 "metadata": {
  "kernelspec": {
   "display_name": "Julia 1.9.3",
   "language": "julia",
   "name": "julia-1.9"
  },
  "language_info": {
   "file_extension": ".jl",
   "mimetype": "application/julia",
   "name": "julia",
   "version": "1.9.3"
  }
 },
 "nbformat": 4,
 "nbformat_minor": 5
}
