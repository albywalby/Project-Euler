{
 "cells": [
  {
   "cell_type": "markdown",
   "metadata": {},
   "source": [
    "# 019 - Counting Sundays (Incomplete)\n",
    "___\n",
    "You are given the following information, but you may prefer to do some research yourself.\n",
    "- 1 Jan 1900 was a Monday.\n",
    "- 30 days has:\n",
    "  - September\n",
    "  - April\n",
    "  - June\n",
    "  - November\n",
    "- The rest have 31 days\n",
    "  - February has 28 days (except on leap years, where they have 29).\n",
    "- A leap year occurs on any year evenly divisible by 4, but not on a century unless it is divisible by 400.\n",
    "\n",
    "How many Sundays fell on the first of the month during the 20th century (1 Jan 1901 - 31 Dec 2000)?"
   ]
  },
  {
   "cell_type": "markdown",
   "metadata": {},
   "source": [
    "## Solution"
   ]
  },
  {
   "cell_type": "code",
   "execution_count": null,
   "metadata": {},
   "outputs": [],
   "source": []
  }
 ],
 "metadata": {
  "kernelspec": {
   "display_name": "Julia 1.9.3",
   "language": "julia",
   "name": "julia-1.9"
  },
  "language_info": {
   "file_extension": ".jl",
   "mimetype": "application/julia",
   "name": "julia",
   "version": "1.9.3"
  }
 },
 "nbformat": 4,
 "nbformat_minor": 4
}
